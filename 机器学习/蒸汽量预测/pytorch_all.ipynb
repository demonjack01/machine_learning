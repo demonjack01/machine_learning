{
 "cells": [
  {
   "cell_type": "code",
   "execution_count": 2,
   "metadata": {},
   "outputs": [],
   "source": [
    "import numpy as np\n",
    "import torch\n",
    "import torch.nn as nn\n",
    "import pandas as pd\n",
    "from sklearn.model_selection import train_test_split\n",
    "from sklearn import preprocessing\n",
    "import torch.utils.data as Data"
   ]
  },
  {
   "cell_type": "code",
   "execution_count": 3,
   "metadata": {},
   "outputs": [],
   "source": [
    "data = pd.read_table('zhengqi_train.txt')\n",
    "\n",
    "# 分割训练集和测试集\n",
    "x = data.iloc[50:, :-1].values\n",
    "y = data.iloc[50:, -1].values\n",
    "x_train, x_test, y_train, y_test = train_test_split(x, y, test_size=0.2)\n",
    "\n",
    "# 数据标准化\n",
    "ss = preprocessing.StandardScaler()\n",
    "x_train = ss.fit_transform(x_train)\n",
    "x_test = ss.transform(x_test)\n",
    "\n",
    "# numpy转tensor\n",
    "x_train = torch.from_numpy(x_train).float()\n",
    "y_train = torch.from_numpy(y_train).float().view(-1,1)\n",
    "x_test = torch.from_numpy(x_test).float()\n",
    "y_test = torch.from_numpy(y_test).float().view(-1,1)\n",
    "\n",
    "# batch_size = 64\n",
    "torch_dataset = Data.TensorDataset(x_train, y_train) \n",
    "loader = Data.DataLoader(dataset=torch_dataset, batch_size=64, \n",
    "            shuffle=True) \n",
    "\n",
    "# print(next(iter(loader)))\n"
   ]
  },
  {
   "cell_type": "code",
   "execution_count": 4,
   "metadata": {},
   "outputs": [],
   "source": [
    "class LR(nn.Module):\n",
    "\n",
    "    def __init__(self):\n",
    "        super(LR, self).__init__()\n",
    "        self.fc1 = nn.Linear(38, 48)\n",
    "        self.fc2 = nn.Linear(48, 32)\n",
    "        self.fc3 = nn.Linear(32, 16)\n",
    "        self.fc4 = nn.Linear(16, 8)\n",
    "        self.fc5 = nn.Linear(8, 1)\n",
    "\n",
    "    def forward(self, x):\n",
    "        x = torch.relu(self.fc1(x))\n",
    "        x = torch.relu(self.fc2(x))\n",
    "        x = torch.relu(self.fc3(x))\n",
    "        x = torch.relu(self.fc4(x))\n",
    "        x = self.fc5(x)\n",
    "        return x"
   ]
  },
  {
   "cell_type": "code",
   "execution_count": 5,
   "metadata": {},
   "outputs": [],
   "source": [
    "# 模型初始化\n",
    "net = LR()\n",
    "criterion = nn.MSELoss()\n",
    "optm = torch.optim.Adam(net.parameters(), lr=0.0001, weight_decay=0.01)\n",
    "epochs = 300\n"
   ]
  },
  {
   "cell_type": "code",
   "execution_count": 6,
   "metadata": {},
   "outputs": [
    {
     "name": "stdout",
     "output_type": "stream",
     "text": [
      "Epoch:50, trainLoss:0.10798513144254684，testLoss:0.1259404867887497\n",
      "Epoch:100, trainLoss:0.09465957432985306，testLoss:0.11724711209535599\n",
      "Epoch:150, trainLoss:0.08794468641281128，testLoss:0.11426088958978653\n",
      "Epoch:200, trainLoss:0.08372967690229416，testLoss:0.11319550126791\n",
      "Epoch:250, trainLoss:0.0802350714802742，testLoss:0.11196142435073853\n",
      "Epoch:300, trainLoss:0.0776086077094078，testLoss:0.11262156814336777\n"
     ]
    }
   ],
   "source": [
    "epochs_list=[]\n",
    "train_loss_list=[]\n",
    "test_error_list=[]\n",
    "for e in range(epochs):\n",
    "    epochs_list.append(e)\n",
    "    for i, (batch_x, batch_y) in enumerate(loader):\n",
    "        y_hat = net(batch_x)\n",
    "#         print(y_hat.shape)\n",
    "        loss = criterion(y_hat, batch_y)\n",
    "        optm.zero_grad()\n",
    "        loss.backward()\n",
    "        optm.step()\n",
    "    \n",
    "    y = net(x_train)\n",
    "    loss = criterion(y, y_train)\n",
    "    train_loss_list.append(loss.item())\n",
    "    y_pred = net(x_test)\n",
    "    error = criterion(y_pred, y_test)\n",
    "    test_error_list.append(error.item())\n",
    "    if (e+1)%50==0:\n",
    "        print(\"Epoch:{}, trainLoss:{}，testLoss:{}\".format(e+1,loss.item(),error.item()))\n",
    "    "
   ]
  },
  {
   "cell_type": "code",
   "execution_count": null,
   "metadata": {},
   "outputs": [],
   "source": []
  },
  {
   "cell_type": "code",
   "execution_count": 7,
   "metadata": {},
   "outputs": [
    {
     "data": {
      "text/plain": [
       "<matplotlib.legend.Legend at 0x2dc914e2ef0>"
      ]
     },
     "execution_count": 7,
     "metadata": {},
     "output_type": "execute_result"
    },
    {
     "data": {
      "image/png": "[encoded data removed]",
      "text/plain": [
       "<Figure size 432x288 with 1 Axes>"
      ]
     },
     "metadata": {
      "needs_background": "light"
     },
     "output_type": "display_data"
    }
   ],
   "source": [
    "import matplotlib.pyplot as plt\n",
    "plt.figure()\n",
    "plt.xlabel(\"Training epochs\")\n",
    "plt.ylabel(\"error\")\n",
    "plt.grid()\n",
    "plt.plot(epochs_list, train_loss_list, '.-', color=\"r\",\n",
    "                label=\"train_loss_\")\n",
    "plt.plot(epochs_list, test_error_list, '.-', color=\"g\",\n",
    "                label=\"test_error\")\n",
    "\n",
    "plt.legend(loc=\"best\")\n"
   ]
  },
  {
   "cell_type": "code",
   "execution_count": null,
   "metadata": {},
   "outputs": [],
   "source": []
  }
 ],
 "metadata": {
  "kernelspec": {
   "display_name": "Python 3.10.4 ('pythonProject')",
   "language": "python",
   "name": "python3"
  },
  "language_info": {
   "codemirror_mode": {
    "name": "ipython",
    "version": 3
   },
   "file_extension": ".py",
   "mimetype": "text/x-python",
   "name": "python",
   "nbconvert_exporter": "python",
   "pygments_lexer": "ipython3",
   "version": "3.10.4"
  },
  "orig_nbformat": 4,
  "vscode": {
   "interpreter": {
    "hash": "031490cb4fb8a925db20958c57cafe119126066026c78a34d7b5ac309ed8eb51"
   }
  }
 },
 "nbformat": 4,
 "nbformat_minor": 2
}
