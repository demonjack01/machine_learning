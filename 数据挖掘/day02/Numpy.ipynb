{
 "cells": [
  {
   "cell_type": "code",
   "execution_count": 2,
   "metadata": {},
   "outputs": [],
   "source": [
    "import numpy as np"
   ]
  },
  {
   "cell_type": "code",
   "execution_count": 3,
   "metadata": {},
   "outputs": [
    {
     "data": {
      "text/plain": [
       "array([[80, 89, 86, 67, 79],\n",
       "       [78, 97, 89, 67, 81],\n",
       "       [90, 94, 78, 67, 74],\n",
       "       [91, 91, 90, 67, 69],\n",
       "       [76, 87, 75, 67, 86],\n",
       "       [70, 79, 84, 67, 84],\n",
       "       [94, 92, 93, 67, 64],\n",
       "       [86, 85, 83, 67, 80]])"
      ]
     },
     "execution_count": 3,
     "metadata": {},
     "output_type": "execute_result"
    }
   ],
   "source": [
    "score=np.array([[80, 89, 86, 67, 79],\n",
    "[78, 97, 89, 67, 81],\n",
    "[90, 94, 78, 67, 74],\n",
    "[91, 91, 90, 67, 69],\n",
    "[76, 87, 75, 67, 86],\n",
    "[70, 79, 84, 67, 84],\n",
    "[94, 92, 93, 67, 64],\n",
    "[86, 85, 83, 67, 80]])\n",
    "score"
   ]
  },
  {
   "cell_type": "markdown",
   "metadata": {},
   "source": [
    "### ndarray的属性"
   ]
  },
  {
   "cell_type": "code",
   "execution_count": 4,
   "metadata": {},
   "outputs": [
    {
     "data": {
      "text/plain": [
       "4"
      ]
     },
     "execution_count": 4,
     "metadata": {},
     "output_type": "execute_result"
    }
   ],
   "source": [
    "score.shape # (8, 5)\n",
    "score.ndim\n",
    "score.size\n",
    "score.dtype \n",
    "score.itemsize"
   ]
  },
  {
   "cell_type": "markdown",
   "metadata": {},
   "source": [
    "### ndarray的形状"
   ]
  },
  {
   "cell_type": "code",
   "execution_count": 5,
   "metadata": {},
   "outputs": [],
   "source": [
    "a=np.array([[1,2,3],[4,5,6]]) #(2,3)\n",
    "b=np.array([1,2,3,4])  #(4,)\n",
    "c=np.array([[[1,2,3],[4,5,6]],[[1,2,3],[4,5,6]]])  #(2,2,3)\n",
    "\n"
   ]
  },
  {
   "cell_type": "markdown",
   "metadata": {},
   "source": [
    "## ndarray的类型"
   ]
  },
  {
   "cell_type": "code",
   "execution_count": 6,
   "metadata": {},
   "outputs": [
    {
     "data": {
      "text/plain": [
       "array([1.1, 2.2, 3.3], dtype=float32)"
      ]
     },
     "execution_count": 6,
     "metadata": {},
     "output_type": "execute_result"
    }
   ],
   "source": [
    "#创建数组时指定类型\n",
    "np.array([1.1, 2.2, 3.3], dtype=\"float32\")\n",
    "np.array([1.1, 2.2, 3.3], dtype=np.float32)"
   ]
  },
  {
   "cell_type": "markdown",
   "metadata": {},
   "source": [
    "### 生成数组的方法"
   ]
  },
  {
   "cell_type": "markdown",
   "metadata": {},
   "source": [
    "#### 1.生成0和1的数组"
   ]
  },
  {
   "cell_type": "code",
   "execution_count": 7,
   "metadata": {},
   "outputs": [
    {
     "data": {
      "text/plain": [
       "array([[0., 0., 0., 0.],\n",
       "       [0., 0., 0., 0.],\n",
       "       [0., 0., 0., 0.]])"
      ]
     },
     "execution_count": 7,
     "metadata": {},
     "output_type": "execute_result"
    }
   ],
   "source": [
    "np.zeros(shape=[3,4])"
   ]
  },
  {
   "cell_type": "markdown",
   "metadata": {},
   "source": [
    "#### 2.从现有数组生成"
   ]
  },
  {
   "cell_type": "code",
   "execution_count": 8,
   "metadata": {},
   "outputs": [],
   "source": [
    "#np.array()\n",
    "data1=np.array(score)\n",
    "#np.asarray  深拷贝\n",
    "data2=np.asarray(score)\n",
    "#np.copy\n",
    "data3=np.copy(score)"
   ]
  },
  {
   "cell_type": "markdown",
   "metadata": {},
   "source": [
    "#### 3.生成固定范围的数组"
   ]
  },
  {
   "cell_type": "code",
   "execution_count": 9,
   "metadata": {},
   "outputs": [
    {
     "data": {
      "text/plain": [
       "array([0, 5])"
      ]
     },
     "execution_count": 9,
     "metadata": {},
     "output_type": "execute_result"
    }
   ],
   "source": [
    "#np.linspace()\n",
    "#np.linspace(0,10,5)  #[0,10] 等距离\n",
    "#np.arange()  range(a,b,c) [a,b) c步长\n",
    "np.arange(0,10,5)\n",
    "\n",
    "\n"
   ]
  },
  {
   "cell_type": "markdown",
   "metadata": {},
   "source": [
    "#### 4.生成随机数"
   ]
  },
  {
   "cell_type": "code",
   "execution_count": 10,
   "metadata": {},
   "outputs": [
    {
     "data": {
      "image/png": "[encoded data removed]",
      "text/plain": [
       "<Figure size 1600x640 with 1 Axes>"
      ]
     },
     "metadata": {
      "needs_background": "light"
     },
     "output_type": "display_data"
    }
   ],
   "source": [
    "data1=np.random.uniform(low=-1,high=1,size=100000)\n",
    "import matplotlib.pyplot as plt\n",
    "plt.figure(figsize=(20,8),dpi=80)\n",
    "plt.hist(data1,100)\n",
    "plt.show()"
   ]
  },
  {
   "cell_type": "markdown",
   "metadata": {},
   "source": [
    "### 案例：随机生成8只股票2周的交易日涨幅数据"
   ]
  },
  {
   "cell_type": "code",
   "execution_count": 11,
   "metadata": {},
   "outputs": [
    {
     "data": {
      "image/png": "[encoded data removed]",
      "text/plain": [
       "<Figure size 1600x640 with 1 Axes>"
      ]
     },
     "metadata": {
      "needs_background": "light"
     },
     "output_type": "display_data"
    }
   ],
   "source": [
    "stock_change = np.random.normal(loc=0, scale=1, size=(8, 10))\n",
    "import matplotlib.pyplot as plt\n",
    "plt.figure(figsize=(20,8),dpi=80)\n",
    "plt.hist(data2,100)\n",
    "plt.show();\n"
   ]
  },
  {
   "cell_type": "code",
   "execution_count": 12,
   "metadata": {},
   "outputs": [
    {
     "data": {
      "text/plain": [
       "34"
      ]
     },
     "execution_count": 12,
     "metadata": {},
     "output_type": "execute_result"
    }
   ],
   "source": [
    "a1 = np.array([[[1,2,3],[4,5,6]], [[12,3,34],[5,6,7]]])\n",
    "a1[1,0,2]\n"
   ]
  },
  {
   "cell_type": "markdown",
   "metadata": {},
   "source": [
    "### 形状修改"
   ]
  },
  {
   "cell_type": "markdown",
   "metadata": {},
   "source": [
    "### 类型修改"
   ]
  },
  {
   "cell_type": "code",
   "execution_count": 13,
   "metadata": {},
   "outputs": [
    {
     "data": {
      "text/plain": [
       "array([[ 0, -1,  0, -1,  0,  0,  0,  1,  0,  0],\n",
       "       [ 0,  0,  0,  0,  1,  3,  0, -1,  0,  2],\n",
       "       [-1,  0,  0,  0,  0,  1, -1,  0,  0, -1],\n",
       "       [ 0,  1,  0,  0,  0,  0,  0,  0,  0,  0],\n",
       "       [ 0,  0,  2,  0,  0,  1,  0,  0,  0, -1],\n",
       "       [ 0, -1,  0,  0,  0,  0,  0,  0,  0,  0],\n",
       "       [ 0,  0,  0,  0,  1,  0,  0,  1,  0,  3],\n",
       "       [-1, -1,  0,  0,  0,  0,  0,  0,  1,  0]])"
      ]
     },
     "execution_count": 13,
     "metadata": {},
     "output_type": "execute_result"
    }
   ],
   "source": [
    "stock_change.astype(\"int32\")"
   ]
  },
  {
   "cell_type": "code",
   "execution_count": 14,
   "metadata": {},
   "outputs": [
    {
     "name": "stderr",
     "output_type": "stream",
     "text": [
      "C:\\Users\\86189\\AppData\\Local\\Temp\\ipykernel_22176\\2974151914.py:1: DeprecationWarning: tostring() is deprecated. Use tobytes() instead.\n",
      "  stock_change.tostring()\n"
     ]
    },
    {
     "data": {
      "text/plain": [
       "b'\\x8a \\x8c\\x99fl\\xe1?>\\x89\\xf87Yk\\xf4\\xbf\\x856\\xb8X\\xe4=\\xd4\\xbf\\x84\\xe0\\xban\\xcb\\xa6\\xf3\\xbfum\\xd5\\x05\\xf3\\x94\\xd0\\xbfp\\xaa\\xaf\\x8d\\xcf*\\xdb?\\xc8\\xd4\\xfa\\xd7\\x19\\xf4\\xbb?R\\xbfq\\xb50J\\xf6?6\\xe5}G\\xd9\\x94\\xe4?F-\\xaa\\xeb\\xc9Y\\xe5\\xbf\\x885\\x92\\xa5\\xcd\\x15\\xe3?\\x17\\xbe\\xf7\\xf0|\\xaa\\xed?^|\\xed\\xb5\\xac0\\xc9\\xbf\\xc1\\xd6-I<\\xa3\\xd2?\\xf7\\xe5\\\\\\xdd\\x80\\xf9\\xfe?\\xe7\\xda\\xc7[\\xd3S\\n@\\x1e\\xf6\\xd51\\xf9_\\xd6?8Jp\\xd1\\x0b_\\xf0\\xbf\\xa9j\\x9d\\xb6\\x98m\\xd9?Ak6\\x85fx\\x06@wF\\x8e\\xd2\\xf3\\xfa\\xfe\\xbf\\x1d\\xce[\\xdc@S\\xc6\\xbf\\xf3\\x16VA-\\xd2\\xed\\xbf\\x82\\xfd\\x03\\x8a.\\xa8\\xd2\\xbf\\x17#\\xc9\\xaeN\\x88\\xeb?B\\xc61`\\xfb\\xbd\\xf4?\\x84P\\x8c\\x8ai\\x14\\xf4\\xbf\\x04\\x81Y\\xac\\xbf\\x83\\x98?\\xb7\\xcd\\xdcbk\\xf5\\xe6?g/\\x89\\x17#\\xc7\\xf8\\xbf\\xe2Y\\xed!\\xbe~\\xd6\\xbf\\xff\\n\\x88\\xc6\\xa6\\x0e\\xf3?\\xb7\\xec\\x82\\x1b\\xed\\xb7\\xef?\\xe9\\x99m\\xa8\\x8f\\xf2\\xdf?$C\\xd0\\xe3\\x10\\x14\\xef\\xbfM\\x8b\\x17zTp\\xdf?\\x9a\\x7f\\xbb\\x92\\xae\\xdb\\xdd?C\\x0c%5\\xe9>\\xea?\\x14\\xb2\\t~\\xf7\\x93\\xb1\\xbf\\xac ;6\\xe1\\xdd\\xeb?Y \\x82\\xad\\xb5)\\xce?G\\xe3\\xca\\xdeYD\\xe5\\xbf\\xa7\\xda\\xf5\\xb3\\x0e\\xea\\x00@\\xa8\\xc8LiH\\x00\\xdd\\xbf\\xcd\\xda\\x9dF\\xefc\\xdb?\\x18\\xb18 \\xf2M\\xff?\\xae\\xcc\\xa0\\xe9\\xfd\\x96\\xd6?\\x90q\\xdb\\x82\\xe6&\\xe4\\xbfp\\x08\\x9c\\xb7\\xd4\\t\\xe1?\\xb3\\xdc.3\\xfd\\x87\\xfe\\xbf\\xc4|\\xe4\\x99\\x96\\xc8\\xe8\\xbf\\xf8\\xef\\x8a \\x14\\x9a\\xf0\\xbf\\xed~\\x87\\xa93\\x96\\xe4\\xbf\\xfeB\\xe4\\xe7\\xb0;\\xe5?\\x1b\\xee\\x85\\xbb\\xa9\\xa4\\x9c?5\\x19\\xf1t\\x87\\x0f\\xc7?\\xfd\\xf2\\x1c%\\x8f\\xe6\\xe7\\xbf\\xddW\\xc3\\xae\\xdc\\xc0\\xd2?\\xf9*\\xf4\\x03hM\\xe0\\xbf\\x11\\xa1\\xa5\\xf9\\xe1\\x0e\\x9f\\xbfbF\\xaf.\\xfe\\x19\\xe2?3\\x94E\\x14\\xb7\\x87\\x98\\xbf\\x1d\\x00[\\xa1\\xdec\\xb0?\\x85\\xce\\xbc\\xc6I\\x8d\\xd4?\\x94X\\xf3\\x86\\xe8\\x88\\xf3?,+\\x80\\xd1I^\\xe4?\\xeac\\x17s=\\x00\\xd4\\xbf0\\xa7RUvl\\xf8?\\x97L=\\tc\\x17\\x88?\\xbd\\xf9F\\x9fh\\xe9\\n@\\xf9z\\xd2d\\x1a\\xbf\\xf6\\xbf2\\xd11C&\\x96\\xf4\\xbff\\x82\\x87\\xa2\\xab)\\xd4\\xbf\\xd0\\xc2\\x11\\xd2[\\x82\\xe1?\\xa2\\x0c\\x00\\x8cD\\xf9\\xef?\\xd8\\xe3\\xc14\\x9b(]\\xbf\\xd5H.\\xcc\\xfa.\\xb3? \\xc8;K4^\\xe4\\xbf\\xb7+\\xac\\x8a\\xbe\\xc3\\xf1?5\\xe0e\\xb5\\xc9z\\xe5?'"
      ]
     },
     "execution_count": 14,
     "metadata": {},
     "output_type": "execute_result"
    }
   ],
   "source": [
    "stock_change.tostring()"
   ]
  },
  {
   "cell_type": "markdown",
   "metadata": {},
   "source": [
    "### 数据的去重"
   ]
  },
  {
   "cell_type": "code",
   "execution_count": 15,
   "metadata": {},
   "outputs": [
    {
     "data": {
      "text/plain": [
       "array([1, 2, 3, 4, 5, 6])"
      ]
     },
     "execution_count": 15,
     "metadata": {},
     "output_type": "execute_result"
    }
   ],
   "source": [
    "temp=np.array([[1,2,3,4],[3,4,5,6]])\n",
    "np.unique(temp)"
   ]
  },
  {
   "cell_type": "markdown",
   "metadata": {},
   "source": [
    "## ndarray的运算"
   ]
  },
  {
   "cell_type": "markdown",
   "metadata": {},
   "source": [
    "### 逻辑运算"
   ]
  },
  {
   "cell_type": "code",
   "execution_count": 16,
   "metadata": {},
   "outputs": [
    {
     "data": {
      "text/plain": [
       "array([[False,  True, False, False,  True,  True, False, False,  True,\n",
       "        False],\n",
       "       [ True, False, False, False, False, False, False, False, False,\n",
       "         True],\n",
       "       [False, False, False, False, False, False, False, False,  True,\n",
       "        False],\n",
       "       [False,  True,  True, False,  True,  True,  True,  True,  True,\n",
       "        False],\n",
       "       [False,  True, False, False,  True,  True,  True,  True,  True,\n",
       "        False],\n",
       "       [False, False, False, False,  True,  True, False, False,  True,\n",
       "        False],\n",
       "       [ True, False, False, False, False, False,  True, False, False,\n",
       "         True],\n",
       "       [False,  True, False,  True, False,  True,  True, False,  True,\n",
       "        False]])"
      ]
     },
     "execution_count": 16,
     "metadata": {},
     "output_type": "execute_result"
    }
   ],
   "source": [
    "stock_change=np.random.normal(loc=0, scale=1,size=(8,10))\n",
    "#逻辑判断，大于0.5为True，小于0.5为False\n",
    "stock_change>0.5"
   ]
  },
  {
   "cell_type": "code",
   "execution_count": 17,
   "metadata": {},
   "outputs": [
    {
     "data": {
      "text/plain": [
       "array([2.61201692, 1.58224833, 1.3988862 , 0.53182353, 0.93996575,\n",
       "       1.26145665, 0.89934175, 1.09106624, 1.90134136, 1.6899802 ,\n",
       "       1.00398875, 1.08426876, 1.00944124, 1.85990079, 1.679141  ,\n",
       "       0.95166602, 0.73139527, 1.42657073, 1.31669165, 0.65245881,\n",
       "       2.69772043, 0.69221054, 0.61367034, 1.70081378, 2.32464567,\n",
       "       0.86645005, 0.83384728, 0.7511849 , 0.67972423, 1.26182364,\n",
       "       1.7614878 ])"
      ]
     },
     "execution_count": 17,
     "metadata": {},
     "output_type": "execute_result"
    }
   ],
   "source": [
    "#布尔索引\n",
    "stock_change[stock_change>0.5]"
   ]
  },
  {
   "cell_type": "code",
   "execution_count": 18,
   "metadata": {},
   "outputs": [
    {
     "data": {
      "text/plain": [
       "True"
      ]
     },
     "execution_count": 18,
     "metadata": {},
     "output_type": "execute_result"
    }
   ],
   "source": [
    "#通用判断函数\n",
    "# np.all(布尔值)  只要有一个False-->False,只有全是True-->True\n",
    "# np.any()   只要有一个True-->True,只有全是False-->False\n",
    "np.all(stock_change[0:2,0:5])>0"
   ]
  },
  {
   "cell_type": "markdown",
   "metadata": {},
   "source": [
    "### np.where"
   ]
  },
  {
   "cell_type": "code",
   "execution_count": 19,
   "metadata": {},
   "outputs": [
    {
     "name": "stdout",
     "output_type": "stream",
     "text": [
      "[[-0.31925719  2.61201692  0.23679463 -0.77511747]\n",
      " [ 0.93996575 -0.61631225 -0.16816365 -0.21235847]\n",
      " [-1.54848398 -1.90385533  0.33915016  0.48736412]\n",
      " [-0.15026465  1.09106624  1.90134136  0.18194957]]\n"
     ]
    },
    {
     "data": {
      "text/plain": [
       "array([[0, 1, 1, 0],\n",
       "       [1, 0, 0, 0],\n",
       "       [0, 0, 1, 1],\n",
       "       [0, 1, 1, 1]])"
      ]
     },
     "execution_count": 19,
     "metadata": {},
     "output_type": "execute_result"
    }
   ],
   "source": [
    "# >0为1，否则为0\n",
    "temp=stock_change[:4,:4]\n",
    "print(temp)\n",
    "np.where(temp>0,1,0)"
   ]
  },
  {
   "cell_type": "code",
   "execution_count": 20,
   "metadata": {},
   "outputs": [
    {
     "data": {
      "text/plain": [
       "array([[0, 1, 0, 1],\n",
       "       [1, 1, 0, 0],\n",
       "       [1, 1, 0, 0],\n",
       "       [0, 1, 1, 0]])"
      ]
     },
     "execution_count": 20,
     "metadata": {},
     "output_type": "execute_result"
    }
   ],
   "source": [
    "## 判断前四个股票前四天的涨跌幅 大于0.5并且小于1的，换为1，否则为0\n",
    "## 判断前四个股票前四天的涨跌幅 大于0.5或者小于-0.5的，换为1，否则为0\n",
    "np.where(np.logical_and(temp>0.5,temp<1),1,0)\n",
    "np.where(np.logical_or(temp>0.5,temp<-0.5),1,0)\n",
    "\n"
   ]
  },
  {
   "cell_type": "markdown",
   "metadata": {},
   "source": [
    "## 统计运算"
   ]
  },
  {
   "cell_type": "markdown",
   "metadata": {},
   "source": [
    "### 统计指标函数"
   ]
  },
  {
   "cell_type": "code",
   "execution_count": 21,
   "metadata": {},
   "outputs": [
    {
     "data": {
      "text/plain": [
       "array([[-0.31925719,  2.61201692,  0.23679463, -0.77511747],\n",
       "       [ 0.93996575, -0.61631225, -0.16816365, -0.21235847],\n",
       "       [-1.54848398, -1.90385533,  0.33915016,  0.48736412],\n",
       "       [-0.15026465,  1.09106624,  1.90134136,  0.18194957]])"
      ]
     },
     "execution_count": 21,
     "metadata": {},
     "output_type": "execute_result"
    }
   ],
   "source": [
    "#前四只股票的最大涨幅\n",
    "temp"
   ]
  },
  {
   "cell_type": "code",
   "execution_count": 22,
   "metadata": {},
   "outputs": [
    {
     "data": {
      "text/plain": [
       "array([2.61201692, 0.93996575, 0.48736412, 1.90134136])"
      ]
     },
     "execution_count": 22,
     "metadata": {},
     "output_type": "execute_result"
    }
   ],
   "source": [
    "#axis=0--> 列 ;axis=1--> 行\n",
    "temp.max(axis=1)"
   ]
  },
  {
   "cell_type": "code",
   "execution_count": 23,
   "metadata": {},
   "outputs": [
    {
     "data": {
      "text/plain": [
       "2.6120169178587"
      ]
     },
     "execution_count": 23,
     "metadata": {},
     "output_type": "execute_result"
    }
   ],
   "source": [
    "np.max(temp)"
   ]
  },
  {
   "cell_type": "markdown",
   "metadata": {},
   "source": [
    "### 找到最大值最小值的位置"
   ]
  },
  {
   "cell_type": "code",
   "execution_count": 24,
   "metadata": {},
   "outputs": [
    {
     "data": {
      "text/plain": [
       "array([1, 0, 3, 2], dtype=int64)"
      ]
     },
     "execution_count": 24,
     "metadata": {},
     "output_type": "execute_result"
    }
   ],
   "source": [
    "#返回最大值、最小值\n",
    "np.argmax(temp,axis=0)"
   ]
  },
  {
   "cell_type": "markdown",
   "metadata": {},
   "source": [
    "## 数组间的运算"
   ]
  },
  {
   "cell_type": "markdown",
   "metadata": {},
   "source": [
    "### 数组与数的运算"
   ]
  },
  {
   "cell_type": "code",
   "execution_count": 25,
   "metadata": {},
   "outputs": [],
   "source": [
    "arr = np.array([[1, 2, 3, 2, 1, 4], [5, 6, 1, 2, 3, 1]])\n",
    "arr+1;\n"
   ]
  },
  {
   "cell_type": "markdown",
   "metadata": {},
   "source": [
    "### 数组与数组的运算"
   ]
  },
  {
   "cell_type": "code",
   "execution_count": 37,
   "metadata": {},
   "outputs": [
    {
     "data": {
      "text/plain": [
       "array([[ 1,  4,  9,  4,  1, 16],\n",
       "       [25, 36,  1,  4,  9,  1]])"
      ]
     },
     "execution_count": 37,
     "metadata": {},
     "output_type": "execute_result"
    }
   ],
   "source": [
    "arr1 = np.array([[1, 2, 3, 2, 1, 4], [5, 6, 1, 2, 3, 1]])\n",
    "arr2 = np.array([[1, 2, 3, 4], [3, 4, 5, 6]])\n",
    "arr1*arr1"
   ]
  },
  {
   "cell_type": "markdown",
   "metadata": {},
   "source": [
    "### 矩阵运算"
   ]
  },
  {
   "cell_type": "code",
   "execution_count": 27,
   "metadata": {},
   "outputs": [
    {
     "data": {
      "text/plain": [
       "matrix([[80, 86],\n",
       "        [82, 80],\n",
       "        [85, 78],\n",
       "        [90, 90],\n",
       "        [86, 82],\n",
       "        [82, 90],\n",
       "        [78, 80],\n",
       "        [92, 94]])"
      ]
     },
     "execution_count": 27,
     "metadata": {},
     "output_type": "execute_result"
    }
   ],
   "source": [
    "a=np.array([[80, 86],\n",
    "[82, 80],\n",
    "[85, 78],\n",
    "[90, 90],\n",
    "[86, 82],\n",
    "[82, 90],\n",
    "[78, 80],\n",
    "[92, 94]]);\n",
    "b=np.mat([[80, 86],\n",
    "[82, 80],\n",
    "[85, 78],\n",
    "[90, 90],\n",
    "[86, 82],\n",
    "[82, 90],\n",
    "[78, 80],\n",
    "[92, 94]])\n",
    "b"
   ]
  },
  {
   "cell_type": "markdown",
   "metadata": {},
   "source": [
    "#### 矩阵乘法"
   ]
  },
  {
   "cell_type": "code",
   "execution_count": 28,
   "metadata": {},
   "outputs": [],
   "source": [
    "# ndarray存储使用1.np.matmul() 2.np.dot()\n",
    "# matrix 存储使用 *\n"
   ]
  },
  {
   "cell_type": "markdown",
   "metadata": {},
   "source": [
    "### 合并、分割"
   ]
  },
  {
   "cell_type": "markdown",
   "metadata": {},
   "source": [
    "#### 合并"
   ]
  },
  {
   "cell_type": "code",
   "execution_count": 29,
   "metadata": {},
   "outputs": [
    {
     "data": {
      "text/plain": [
       "array([1, 2, 3, 2, 3, 4])"
      ]
     },
     "execution_count": 29,
     "metadata": {},
     "output_type": "execute_result"
    }
   ],
   "source": [
    "a=np.array([1,2,3])\n",
    "b=np.array([2,3,4])\n",
    "np.hstack([a,b])"
   ]
  },
  {
   "cell_type": "code",
   "execution_count": 30,
   "metadata": {},
   "outputs": [
    {
     "data": {
      "text/plain": [
       "array([[1],\n",
       "       [2],\n",
       "       [3],\n",
       "       [2],\n",
       "       [3],\n",
       "       [4]])"
      ]
     },
     "execution_count": 30,
     "metadata": {},
     "output_type": "execute_result"
    }
   ],
   "source": [
    "a=np.array([[1],[2],[3]])\n",
    "b=np.array([[2],[3],[4]])\n",
    "np.vstack((a,b))"
   ]
  },
  {
   "cell_type": "code",
   "execution_count": 31,
   "metadata": {},
   "outputs": [
    {
     "data": {
      "text/plain": [
       "array([[1, 2, 4],\n",
       "       [3, 4, 5]])"
      ]
     },
     "execution_count": 31,
     "metadata": {},
     "output_type": "execute_result"
    }
   ],
   "source": [
    "a=np.array([[1,2],[3,4]])\n",
    "b=np.array([[4,5]])\n",
    "np.concatenate([a,b],axis=0);\n",
    "np.concatenate([a,b.T],axis=1)"
   ]
  },
  {
   "cell_type": "markdown",
   "metadata": {},
   "source": [
    "#### 分割"
   ]
  },
  {
   "cell_type": "code",
   "execution_count": 32,
   "metadata": {},
   "outputs": [
    {
     "data": {
      "text/plain": [
       "[array([0.]), array([1., 2.]), array([3., 4.]), array([5., 6., 7., 8.])]"
      ]
     },
     "execution_count": 32,
     "metadata": {},
     "output_type": "execute_result"
    }
   ],
   "source": [
    "x=np.arange(9.0)\n",
    "np.split(x,3);\n",
    "np.split(x,[1,3,5])"
   ]
  },
  {
   "cell_type": "markdown",
   "metadata": {},
   "source": [
    "##  IO操作与数据处理"
   ]
  },
  {
   "cell_type": "markdown",
   "metadata": {},
   "source": [
    "### Numpy数据读取"
   ]
  },
  {
   "cell_type": "code",
   "execution_count": 33,
   "metadata": {},
   "outputs": [
    {
     "data": {
      "text/plain": [
       "array([[  nan,   nan,   nan,   nan],\n",
       "       [  1. , 123. ,   1.4,  23. ],\n",
       "       [  2. , 110. ,   nan,  18. ],\n",
       "       [  3. ,   nan,   2.1,  19. ]])"
      ]
     },
     "execution_count": 33,
     "metadata": {},
     "output_type": "execute_result"
    }
   ],
   "source": [
    "import numpy as np\n",
    "data=np.genfromtxt(\"text.txt\",delimiter=\",\")\n",
    "data"
   ]
  },
  {
   "cell_type": "markdown",
   "metadata": {},
   "source": [
    "### 如何处理缺失值"
   ]
  },
  {
   "cell_type": "markdown",
   "metadata": {},
   "source": [
    "#### 直接删除含有缺失值的样本"
   ]
  },
  {
   "cell_type": "code",
   "execution_count": null,
   "metadata": {},
   "outputs": [],
   "source": []
  },
  {
   "cell_type": "markdown",
   "metadata": {},
   "source": [
    "#### 替换、插补"
   ]
  },
  {
   "cell_type": "code",
   "execution_count": null,
   "metadata": {},
   "outputs": [],
   "source": []
  }
 ],
 "metadata": {
  "kernelspec": {
   "display_name": "Python 3.10.4 ('pythonProject')",
   "language": "python",
   "name": "python3"
  },
  "language_info": {
   "codemirror_mode": {
    "name": "ipython",
    "version": 3
   },
   "file_extension": ".py",
   "mimetype": "text/x-python",
   "name": "python",
   "nbconvert_exporter": "python",
   "pygments_lexer": "ipython3",
   "version": "3.10.4"
  },
  "orig_nbformat": 4,
  "vscode": {
   "interpreter": {
    "hash": "031490cb4fb8a925db20958c57cafe119126066026c78a34d7b5ac309ed8eb51"
   }
  }
 },
 "nbformat": 4,
 "nbformat_minor": 2
}
